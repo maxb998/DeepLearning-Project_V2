{
 "cells": [
  {
   "cell_type": "code",
   "execution_count": null,
   "metadata": {},
   "outputs": [],
   "source": [
    "import torch, train, random, importlib, torchvision\n",
    "\n",
    "import dataset\n",
    "import utils\n",
    "import net\n",
    "\n",
    "from PIL import ImageDraw\n",
    "from IPython.display import display\n",
    "\n",
    "torch.set_printoptions(precision=3, linewidth=300)"
   ]
  },
  {
   "cell_type": "code",
   "execution_count": null,
   "metadata": {},
   "outputs": [],
   "source": [
    "importlib.reload(utils)\n",
    "importlib.reload(dataset)\n",
    "\n",
    "cv = utils.Converter()\n",
    "d = dataset.RisikoDataset(dataset_dir='Datasets/Generated_Dataset/train', cv=cv, train_mode=False)"
   ]
  },
  {
   "cell_type": "code",
   "execution_count": null,
   "metadata": {},
   "outputs": [],
   "source": [
    "model = torch.load('weights/last_model').to('cpu')\n",
    "model.eval()"
   ]
  },
  {
   "cell_type": "code",
   "execution_count": null,
   "metadata": {},
   "outputs": [],
   "source": [
    "importlib.reload(utils)\n",
    "\n",
    "rnd_idx = random.randint(0, len(d))\n",
    "img_tensor, target = d.__getitem__(idx=rnd_idx, return_basic_labels=True)\n",
    "\n",
    "netout = model.forward(img_tensor.unsqueeze(0)).squeeze(0)\n",
    "preds_labels = cv.convert_netout_to_basic_labels(netout=netout, probability_threshold=0.4, max_iou=0.5, apply_nms=True)\n",
    "cv.convert_labels_from_relative_to_absolute_values(preds_labels[:,1:], use_netin_shape=True)\n",
    "\n",
    "img =  torch.multiply(img_tensor, 256).type(torch.uint8)\n",
    "to_pil = torchvision.transforms.ToPILImage()\n",
    "img = to_pil(img)\n",
    "\n",
    "colors = [    \"blue\",    \"red\",    \"yellow\",    \"purple\",    \"black\",    \"green\"]\n",
    "\n",
    "boxes = preds_labels\n",
    "print(boxes.shape[0])\n",
    "\n",
    "if (boxes.shape[0] != 0):\n",
    "\n",
    "    if len(boxes.shape) == 1:\n",
    "        boxes = boxes.unsqueeze(1)\n",
    "\n",
    "    box_coords = boxes[:, 2:]\n",
    "    # torch.multiply(box_coords, torch.tensor([img.width, img.height, img.width, img.height], dtype=torch.float32), out=box_coords)\n",
    "    # print(box_coords)\n",
    "\n",
    "    img_draw = ImageDraw.Draw(img)\n",
    "\n",
    "    for i in range(box_coords.shape[0]):\n",
    "\n",
    "        x0 = int(box_coords[i,0] - box_coords[i,2] / 2)\n",
    "        x1 = int(box_coords[i,0] + box_coords[i,2] / 2)\n",
    "        y0 = int(box_coords[i,1] - box_coords[i,3] / 2)\n",
    "        y1 = int(box_coords[i,1] + box_coords[i,3] / 2)\n",
    "\n",
    "        img_draw.rectangle([x0, y0, x1, y1], outline=colors[int(boxes[i,1])%6])\n",
    "\n",
    "display(img)"
   ]
  }
 ],
 "metadata": {
  "kernelspec": {
   "display_name": "env",
   "language": "python",
   "name": "python3"
  },
  "language_info": {
   "codemirror_mode": {
    "name": "ipython",
    "version": 3
   },
   "file_extension": ".py",
   "mimetype": "text/x-python",
   "name": "python",
   "nbconvert_exporter": "python",
   "pygments_lexer": "ipython3",
   "version": "3.11.8"
  }
 },
 "nbformat": 4,
 "nbformat_minor": 2
}

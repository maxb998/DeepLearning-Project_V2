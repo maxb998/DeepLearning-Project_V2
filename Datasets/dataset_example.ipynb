{
 "cells": [
  {
   "cell_type": "code",
   "execution_count": null,
   "metadata": {},
   "outputs": [],
   "source": [
    "import os\n",
    "import numpy as np\n",
    "from PIL import Image, ImageDraw\n",
    "from IPython.display import display\n",
    "\n",
    "colors = [\n",
    "    \"blue\",\n",
    "    \"red\",\n",
    "    \"yellow\",\n",
    "    \"purple\",\n",
    "    \"black\",\n",
    "    \"green\"\n",
    "]\n",
    "\n",
    "n = 500\n",
    "img_id = 9#np.random.randint(n)\n",
    "print(img_id)\n",
    "\n",
    "# img_path = \"Generated_Dataset/images/\" + str(img_id).zfill(8) + \".jpg\"\n",
    "# lbl_path = \"Generated_Dataset/labels/\" + str(img_id).zfill(8) + \".csv\"\n",
    "img_path = \"Professor_Material/real_images/images/\" + \"000009\" + \".jpg\"\n",
    "lbl_path = \"Professor_Material/real_images/labels/\" + \"000009\" + \".txt\"\n",
    "\n",
    "img = Image.open(img_path)\n",
    "boxes = np.genfromtxt(fname= lbl_path, delimiter=' ', dtype=np.float32)\n",
    "\n",
    "if (boxes.shape[0] != 0):\n",
    "\n",
    "    if len(boxes.shape) == 1:\n",
    "        boxes = np.expand_dims(boxes, 0)\n",
    "\n",
    "    boxes[:, 1:] *= np.array([img.width, img.height, img.width, img.height], dtype=np.float32)\n",
    "    box_coords = boxes[:, 1:].round()#.astype(np.int32)\n",
    "\n",
    "    img_draw = ImageDraw.Draw(img)\n",
    "\n",
    "    for i in range(box_coords.shape[0]):\n",
    "        bbox = box_coords[i]\n",
    "\n",
    "        x0 = bbox[0] - bbox[2] / 2\n",
    "        x1 = bbox[0] + bbox[2] / 2\n",
    "        y0 = bbox[1] - bbox[3] / 2\n",
    "        y1 = bbox[1] + bbox[3] / 2\n",
    "\n",
    "        img_draw.rectangle([x0, y0, x1, y1], outline=colors[int(boxes[i,0])%6])\n",
    "            \n",
    "display(img)"
   ]
  }
 ],
 "metadata": {
  "kernelspec": {
   "display_name": "deepl_env",
   "language": "python",
   "name": "python3"
  },
  "language_info": {
   "codemirror_mode": {
    "name": "ipython",
    "version": 3
   },
   "file_extension": ".py",
   "mimetype": "text/x-python",
   "name": "python",
   "nbconvert_exporter": "python",
   "pygments_lexer": "ipython3",
   "version": "3.11.9"
  },
  "orig_nbformat": 4
 },
 "nbformat": 4,
 "nbformat_minor": 2
}

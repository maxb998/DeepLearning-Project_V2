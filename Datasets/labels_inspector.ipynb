{
 "cells": [
  {
   "attachments": {},
   "cell_type": "markdown",
   "metadata": {},
   "source": [
    "# Risiko Detection: Boxes Analisys #\n",
    "Here we will analyze the properties of the bounding boxes specified as text files inside the directory specified as *labels_path*."
   ]
  },
  {
   "cell_type": "code",
   "execution_count": null,
   "metadata": {},
   "outputs": [],
   "source": [
    "import os\n",
    "import numpy as np\n",
    "import pandas as pd\n",
    "from sklearn.cluster import KMeans\n",
    "from matplotlib import pyplot as plt\n",
    "import cv2\n",
    "plt.rcParams['figure.figsize'] = [9, 9]\n",
    "\n",
    "labels_path = \"Generated_Dataset/train/labels\"\n",
    "images_path = \"Generated_Dataset/train/images\""
   ]
  },
  {
   "attachments": {},
   "cell_type": "markdown",
   "metadata": {},
   "source": [
    "#### Read Data ####\n",
    "Read labels files, compute areas and ratios and do some statistics"
   ]
  },
  {
   "cell_type": "code",
   "execution_count": null,
   "metadata": {},
   "outputs": [],
   "source": [
    "labels_files = sorted( filter( lambda x: os.path.isfile(os.path.join(labels_path, x)),os.listdir(labels_path) ) )\n",
    "\n",
    "# load each image to fix \n",
    "load_imgs = False\n",
    "\n",
    "# get img size in pixel\n",
    "if load_imgs:\n",
    "    img_dims = np.zeros([len(labels_files), 2], dtype=np.float32)\n",
    "    for i in range(len(labels_files)):\n",
    "        img_path = os.path.join(images_path, os.path.splitext(labels_files[i])[0] + \".jpg\")\n",
    "        img = cv2.imread(img_path)\n",
    "        img_dims[i,0] = img.shape[1]\n",
    "        img_dims[i,1] = img.shape[0]\n",
    "\n",
    "    img_stats = np.hstack([img_dims, np.expand_dims(img_dims[:,0]/img_dims[:,1], 1), np.expand_dims(img_dims[:,0]*img_dims[:,1], 1), np.expand_dims(np.sqrt(img_dims[:,0]*img_dims[:,1]), 1)])\n",
    "\n",
    "    df = pd.DataFrame(img_stats)\n",
    "    del img_stats\n",
    "    df.columns = [\"img width\", \"img height\", \"img ratio\", \"img area\", \"img root area\"]\n",
    "    df.describe()"
   ]
  },
  {
   "cell_type": "code",
   "execution_count": null,
   "metadata": {},
   "outputs": [],
   "source": [
    "labels_list = []\n",
    "std_size = np.array([1000, 1000], dtype=np.float32) # size of the image to be input of nn\n",
    "boxes = np.empty([0,4], dtype=np.float32)\n",
    "\n",
    "for i in range(len(labels_files)):\n",
    "    lbl = np.loadtxt(os.path.join(labels_path, labels_files[i]), dtype=np.float32)\n",
    "    if lbl.shape[0] == 0:\n",
    "        continue\n",
    "    elif len(lbl.shape) == 1:\n",
    "        lbl = np.expand_dims(lbl, 0)\n",
    "\n",
    "    if load_imgs:\n",
    "        max_dim_id = np.argmax(img_dims[i])\n",
    "        scale = std_size[max_dim_id] / img_dims[i,max_dim_id]\n",
    "        rescaled_size = np.round(img_dims[i] * scale)\n",
    "    else:\n",
    "        rescaled_size = std_size\n",
    "\n",
    "    # Scale boxes centers and sizes\n",
    "    np.multiply(lbl[:,1:], np.hstack([rescaled_size, rescaled_size]), out=lbl[:,1:])\n",
    "\n",
    "    # Fix boxes centers with offset and scale\n",
    "    np.add(lbl[:,1:3], (std_size - rescaled_size) / 2, out=lbl[:,1:3])\n",
    "\n",
    "    np.round(lbl, out=lbl)\n",
    "\n",
    "    labels_list.append(lbl)\n",
    "    boxes = np.vstack([boxes, lbl[:,1:]], dtype=np.float32)\n",
    "\n",
    "sizes = boxes[:,2:]\n",
    "areas = np.sqrt(sizes[:,0] * sizes[:,1])\n",
    "ratios = sizes[:,0] / sizes[:,1]\n",
    "\n",
    "box_stat_data = np.hstack([sizes, areas.reshape([areas.shape[0],1]), ratios.reshape([ratios.shape[0],1])])\n",
    "\n",
    "df = pd.DataFrame(box_stat_data)\n",
    "df.columns = [\"Width\", \"Height\", \"Area\", \"Ratio\"]\n",
    "df.describe(percentiles=[0.02,0.1,0.25,0.5,0.75,0.9,0.98])"
   ]
  },
  {
   "cell_type": "markdown",
   "metadata": {},
   "source": [
    "Find Image with objects that have the smallest area to inspect it manually (check whether it's actually worth it to allow detection for such small objects)"
   ]
  },
  {
   "cell_type": "code",
   "execution_count": null,
   "metadata": {},
   "outputs": [],
   "source": [
    "min_area = 1e100\n",
    "min_fname = \"\"\n",
    "for i in range(len(labels_list)):\n",
    "    inst_areas = labels_list[i][:,3] * labels_list[i][:,4]\n",
    "    min_id = np.argmin(inst_areas)\n",
    "    if inst_areas[min_id] < min_area:\n",
    "        min_dims = labels_list[i][min_id]\n",
    "        min_area = inst_areas[min_id]\n",
    "        min_fname = labels_files[i]\n",
    "\n",
    "print(min_area)\n",
    "print(min_dims)\n",
    "print(min_fname)"
   ]
  },
  {
   "cell_type": "markdown",
   "metadata": {},
   "source": [
    "Now we check some statistics about the IoU in each image"
   ]
  },
  {
   "cell_type": "code",
   "execution_count": null,
   "metadata": {},
   "outputs": [],
   "source": [
    "def IoU(boxes:np.ndarray) -> float:\n",
    "\n",
    "    half_dims = boxes[:, 2:] / 2\n",
    "    x1 = boxes[:, 0] - half_dims[:, 0]\n",
    "    x2 = boxes[:, 0] + half_dims[:, 0]\n",
    "    y1 = boxes[:, 1] - half_dims[:, 1]\n",
    "    y2 = boxes[:, 1] + half_dims[:, 1]\n",
    "\n",
    "    xA = np.maximum(x1, np.expand_dims(x1, 1))\n",
    "    yA = np.maximum(y1, np.expand_dims(y1, 1))\n",
    "    xB = np.minimum(x2, np.expand_dims(x2, 1))\n",
    "    yB = np.minimum(y2, np.expand_dims(y2, 1))\n",
    "\n",
    "    interArea = np.maximum((xB - xA), 0) * np.maximum((yB - yA), 0)\n",
    "\n",
    "    boxesArea = (x2 - x1) * (y2 - y1)\n",
    "    unionArea = boxesArea + np.expand_dims(boxesArea,1) - interArea\n",
    "\n",
    "    IoU = interArea / unionArea\n",
    "\n",
    "    IoU = IoU[~np.eye(IoU.shape[0],dtype=bool)].reshape(IoU.shape[0],-1)\n",
    "\n",
    "    IoU = IoU.flatten()\n",
    "\n",
    "    return np.max(IoU)\n",
    "\n",
    "max_img_iou_list = np.empty([0], dtype=np.float32)\n",
    "for boxes in labels_list:\n",
    "    if boxes.shape[0] > 1:\n",
    "        max_img_iou_list = np.hstack([max_img_iou_list, IoU(boxes[:,1:])])\n",
    "df = pd.DataFrame(max_img_iou_list)\n",
    "df.columns= [\"Max IoU each img\"]\n",
    "df.describe(percentiles=[0.02,0.1,0.25,0.5,0.75,0.9,0.98])"
   ]
  },
  {
   "attachments": {},
   "cell_type": "markdown",
   "metadata": {},
   "source": [
    "#### Plot all points ####"
   ]
  },
  {
   "cell_type": "code",
   "execution_count": null,
   "metadata": {},
   "outputs": [],
   "source": [
    "plt.scatter(sizes[:,0], sizes[:,1], s=5, marker='.')\n",
    "plt.xlim([0,sizes[:,0].max()+20])\n",
    "plt.ylim([0,sizes[:,1].max()+20])\n",
    "plt.grid(which='major', linestyle='-', linewidth='0.5', color='black')\n",
    "plt.grid(which='minor', linestyle=':', linewidth='0.5', color='black')\n",
    "plt.minorticks_on()\n",
    "plt.show()"
   ]
  },
  {
   "cell_type": "markdown",
   "metadata": {},
   "source": [
    "Get histogram on areas to estimate size"
   ]
  },
  {
   "cell_type": "code",
   "execution_count": null,
   "metadata": {},
   "outputs": [],
   "source": [
    "plt.rcParams['figure.figsize'] = [20, 5]\n",
    "plt.hist(areas, bins=250)\n",
    "plt.show()\n",
    "plt.rcParams['figure.figsize'] = [9, 9]\n",
    "print()"
   ]
  },
  {
   "cell_type": "code",
   "execution_count": null,
   "metadata": {},
   "outputs": [],
   "source": [
    "plt.rcParams['figure.figsize'] = [20, 5]\n",
    "fig, (ax1, ax2) = plt.subplots(1,2)\n",
    "ax1.hist(sizes[:,0], bins=250)\n",
    "ax2.hist(sizes[:,1], bins=250)\n",
    "plt.rcParams['figure.figsize'] = [9, 9]\n",
    "print(\"Maxium size for the bounding boxes is: \" , str(np.max(sizes,0)))\n",
    "print(\"Minimum size for the bounding boxes is: \" , str(np.min(sizes,0)))"
   ]
  },
  {
   "attachments": {},
   "cell_type": "markdown",
   "metadata": {},
   "source": [
    "## KMeans Clustering ##\n",
    "Now we run some clustering to identify patterns in the data. This will useful when generating the neural network model and detecting the tanks and flags.\n",
    "In particular this results will be useful when chosing the anchor boxes size and ratios"
   ]
  },
  {
   "attachments": {},
   "cell_type": "markdown",
   "metadata": {},
   "source": [
    "#### Clustering plot function ####"
   ]
  },
  {
   "cell_type": "code",
   "execution_count": null,
   "metadata": {},
   "outputs": [],
   "source": [
    "def plot_clusters(points:np.ndarray, labels:np.ndarray, k:int, centers=None):\n",
    "    # plot the 3 clusters\n",
    "    colors = [\"green\", \"darkorange\", \"purple\", \"blue\", \"lightblue\", \"lightgreen\"]\n",
    "    for i in range(k):\n",
    "        plt.scatter(points[labels == i, 0], points[labels == i, 1], s=5, c=colors[i], marker='.', label=\"cluster \" + str(i))\n",
    "\n",
    "    # plot the centroids\n",
    "    if not (centers is None):\n",
    "        plt.scatter(centers[:, 0], centers[:, 1], s=20, marker='o', c='red', edgecolor='black', label='centroids')\n",
    "\n",
    "    plt.legend(scatterpoints=1)\n",
    "    plt.minorticks_on()\n",
    "    plt.xlim([0,points[:,0].max()+20])\n",
    "    plt.ylim([0,points[:,1].max()+20])\n",
    "    plt.grid(which='major', linestyle='-', linewidth='0.5', color='black')\n",
    "    plt.grid(which='minor', linestyle=':', linewidth='0.5', color='black')\n",
    "    plt.show()"
   ]
  },
  {
   "attachments": {},
   "cell_type": "markdown",
   "metadata": {},
   "source": [
    "#### Clustering on Size ####"
   ]
  },
  {
   "cell_type": "code",
   "execution_count": null,
   "metadata": {},
   "outputs": [],
   "source": [
    "k_sizes = 3\n",
    "km_size = KMeans(n_clusters=k_sizes, n_init='auto')\n",
    "km_sizes_output = km_size.fit_predict(np.expand_dims(areas, 1))\n",
    "print(np.sort(km_size.cluster_centers_.round(), 0))\n",
    "\n",
    "plot_clusters(sizes, km_sizes_output, k_sizes)"
   ]
  },
  {
   "attachments": {},
   "cell_type": "markdown",
   "metadata": {},
   "source": [
    "#### Clustering on Ratios"
   ]
  },
  {
   "cell_type": "code",
   "execution_count": null,
   "metadata": {},
   "outputs": [],
   "source": [
    "k_ratios = 3\n",
    "km_ratios = KMeans(n_clusters=k_ratios, n_init='auto')\n",
    "km_ratios_output = km_ratios.fit_predict(ratios.reshape(ratios.shape[0], 1))\n",
    "print(km_ratios.cluster_centers_)\n",
    "\n",
    "plot_clusters(sizes, km_ratios_output, k_ratios)"
   ]
  }
 ],
 "metadata": {
  "kernelspec": {
   "display_name": "deepl_env",
   "language": "python",
   "name": "python3"
  },
  "language_info": {
   "codemirror_mode": {
    "name": "ipython",
    "version": 3
   },
   "file_extension": ".py",
   "mimetype": "text/x-python",
   "name": "python",
   "nbconvert_exporter": "python",
   "pygments_lexer": "ipython3",
   "version": "3.10.12"
  },
  "orig_nbformat": 4
 },
 "nbformat": 4,
 "nbformat_minor": 2
}

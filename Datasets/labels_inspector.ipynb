{
 "cells": [
  {
   "attachments": {},
   "cell_type": "markdown",
   "metadata": {},
   "source": [
    "# Risiko Detection: Boxes Analisys #\n",
    "Here we will analyze the properties of the bounding boxes specified as text files inside the directory specified as *labels_path*."
   ]
  },
  {
   "cell_type": "code",
   "execution_count": null,
   "metadata": {
    "metadata": {}
   },
   "outputs": [],
   "source": [
    "import os\n",
    "import numpy as np\n",
    "import pandas as pd\n",
    "from sklearn.cluster import KMeans\n",
    "from matplotlib import pyplot as plt\n",
    "import cv2\n",
    "plt.rcParams['figure.figsize'] = [9, 9]\n",
    "\n",
    "from IPython.display import display_html\n",
    "\n",
    "netin_shape = int(512)\n",
    "\n",
    "generated_dataset_path = \"Generated_Dataset/train\"\n",
    "real_dataset_path = \"Professor_Material/real_images\""
   ]
  },
  {
   "cell_type": "code",
   "execution_count": null,
   "metadata": {
    "metadata": {}
   },
   "outputs": [],
   "source": [
    "generated_labels_path = os.path.join(generated_dataset_path, \"labels\")\n",
    "generated_images_path = os.path.join(generated_dataset_path, \"images\")\n",
    "generated_img_dims = np.array((640,640), dtype=np.float32)\n",
    "\n",
    "real_labels_path = os.path.join(real_dataset_path, \"labels\")\n",
    "real_images_path = os.path.join(real_dataset_path, \"images\")"
   ]
  },
  {
   "attachments": {},
   "cell_type": "markdown",
   "metadata": {},
   "source": [
    "#### Read Data ####\n",
    "Read labels files, compute areas and ratios and do some statistics"
   ]
  },
  {
   "cell_type": "code",
   "execution_count": null,
   "metadata": {
    "metadata": {}
   },
   "outputs": [],
   "source": [
    "generated_labels_files = sorted( filter( lambda x: os.path.isfile(os.path.join(generated_labels_path, x)),os.listdir(generated_labels_path) ) )\n",
    "real_labels_files = sorted( filter( lambda x: os.path.isfile(os.path.join(real_labels_path, x)),os.listdir(real_labels_path) ) )\n",
    "\n",
    "\n",
    "real_img_dims = np.zeros([len(real_labels_files), 2], dtype=np.float32)\n",
    "for i in range(len(real_labels_files)):\n",
    "    img_path = os.path.join(real_images_path, os.path.splitext(real_labels_files[i])[0] + \".jpg\")\n",
    "    img = cv2.imread(img_path)\n",
    "    real_img_dims[i,0] = img.shape[1]\n",
    "    real_img_dims[i,1] = img.shape[0]\n",
    "\n",
    "real_img_stats = np.hstack([real_img_dims, np.expand_dims(real_img_dims[:,0]/real_img_dims[:,1], 1), np.expand_dims(real_img_dims[:,0]*real_img_dims[:,1], 1), np.expand_dims(np.sqrt(real_img_dims[:,0]*real_img_dims[:,1]), 1)])\n",
    "\n",
    "df = pd.DataFrame(real_img_stats)\n",
    "df.columns = [\"img width\", \"img height\", \"img ratio\", \"img area\", \"img root area\"]\n",
    "df.describe()"
   ]
  },
  {
   "cell_type": "code",
   "execution_count": null,
   "metadata": {
    "metadata": {}
   },
   "outputs": [],
   "source": [
    "big_dim_px = real_img_dims.max(1)\n",
    "# small_dim_px = real_img_dims.min(1)\n",
    "\n",
    "scaleup_map = big_dim_px < netin_shape\n",
    "\n",
    "scaleup_coeffs = np.expand_dims(np.divide(netin_shape, big_dim_px[scaleup_map]), axis=1)\n",
    "\n",
    "np.multiply(real_img_dims[scaleup_map], scaleup_coeffs.repeat(2, axis=1), out=real_img_dims[scaleup_map])"
   ]
  },
  {
   "cell_type": "code",
   "execution_count": null,
   "metadata": {
    "metadata": {}
   },
   "outputs": [],
   "source": [
    "real_labels_list = []\n",
    "real_boxes = np.empty([0,4], dtype=np.float32)\n",
    "\n",
    "for i in range(len(real_labels_files)):\n",
    "    lbl = np.loadtxt(os.path.join(real_labels_path, real_labels_files[i]), dtype=np.float32)\n",
    "    if lbl.shape[0] == 0:\n",
    "        continue\n",
    "    elif len(lbl.shape) == 1:\n",
    "        lbl = np.expand_dims(lbl, 0)\n",
    "\n",
    "    # Scale boxes centers and sizes\n",
    "    np.multiply(lbl[:,1:], np.hstack([real_img_dims[i], real_img_dims[i]]), out=lbl[:,1:])\n",
    "\n",
    "    np.round(lbl, out=lbl)\n",
    "\n",
    "    real_labels_list.append(lbl)\n",
    "    real_boxes = np.vstack([real_boxes, lbl[:,1:]], dtype=np.float32)\n",
    "\n",
    "real_sizes = real_boxes[:,2:]\n",
    "real_areas = real_sizes[:,0] * real_sizes[:,1]\n",
    "real_ratios = real_sizes[:,0] / real_sizes[:,1]\n",
    "real_df = pd.DataFrame(np.hstack([real_sizes, real_areas.reshape([real_areas.shape[0],1]), real_ratios.reshape([real_ratios.shape[0],1])]))\n",
    "real_df.columns = [\"Real Width\", \"Real Height\", \"Real Area\", \"Real Ratio\"]\n",
    "real_df_styler = real_df.describe(percentiles=[0.02,0.05,0.1,0.25,0.5,0.75,0.9,0.98]).style.set_table_attributes(\"style='display:inline'\").set_caption('Real')\n",
    "\n",
    "generated_labels_list = []\n",
    "generated_boxes = np.empty([0,4], dtype=np.float32)\n",
    "\n",
    "for i in range(len(generated_labels_files)):\n",
    "    lbl = np.loadtxt(os.path.join(generated_labels_path, generated_labels_files[i]), dtype=np.float32)\n",
    "    if lbl.shape[0] == 0:\n",
    "        continue\n",
    "    elif len(lbl.shape) == 1:\n",
    "        lbl = np.expand_dims(lbl, 0)\n",
    "\n",
    "    # Scale boxes centers and sizes\n",
    "    np.multiply(lbl[:,1:], np.hstack([generated_img_dims, generated_img_dims]), out=lbl[:,1:])\n",
    "\n",
    "    np.round(lbl, out=lbl)\n",
    "\n",
    "    generated_labels_list.append(lbl)\n",
    "    generated_boxes = np.vstack([generated_boxes, lbl[:,1:]], dtype=np.float32)\n",
    "\n",
    "generated_sizes = generated_boxes[:,2:]\n",
    "generated_areas = generated_sizes[:,0] * generated_sizes[:,1]\n",
    "generated_ratios = generated_sizes[:,0] / generated_sizes[:,1]\n",
    "generated_df = pd.DataFrame(np.hstack([generated_sizes, generated_areas.reshape([generated_areas.shape[0],1]), generated_ratios.reshape([generated_ratios.shape[0],1])]))\n",
    "generated_df.columns = [\"Gen Width\", \"Gen Height\", \"Gen Area\", \"Gen Ratio\"]\n",
    "generated_df_styler = generated_df.describe(percentiles=[0.02,0.05,0.1,0.25,0.5,0.75,0.9,0.98]).style.set_table_attributes(\"style='display:inline'\").set_caption('Generated')\n",
    "\n",
    "display_html(real_df_styler._repr_html_()+generated_df_styler._repr_html_(), raw=True)"
   ]
  },
  {
   "cell_type": "markdown",
   "metadata": {},
   "source": [
    "Now we check some statistics about the IoU in each image"
   ]
  },
  {
   "cell_type": "code",
   "execution_count": null,
   "metadata": {
    "metadata": {}
   },
   "outputs": [],
   "source": [
    "def IoU(boxes:np.ndarray) -> float:\n",
    "\n",
    "    half_dims = boxes[:, 2:] / 2\n",
    "    x1 = boxes[:, 0] - half_dims[:, 0]\n",
    "    x2 = boxes[:, 0] + half_dims[:, 0]\n",
    "    y1 = boxes[:, 1] - half_dims[:, 1]\n",
    "    y2 = boxes[:, 1] + half_dims[:, 1]\n",
    "\n",
    "    xA = np.maximum(x1, np.expand_dims(x1, 1))\n",
    "    yA = np.maximum(y1, np.expand_dims(y1, 1))\n",
    "    xB = np.minimum(x2, np.expand_dims(x2, 1))\n",
    "    yB = np.minimum(y2, np.expand_dims(y2, 1))\n",
    "\n",
    "    interArea = np.maximum((xB - xA), 0) * np.maximum((yB - yA), 0)\n",
    "\n",
    "    boxesArea = (x2 - x1) * (y2 - y1)\n",
    "    unionArea = boxesArea + np.expand_dims(boxesArea,1) - interArea\n",
    "\n",
    "    IoU = interArea / unionArea\n",
    "\n",
    "    IoU = IoU[~np.eye(IoU.shape[0],dtype=bool)].reshape(IoU.shape[0],-1)\n",
    "\n",
    "    IoU = IoU.flatten()\n",
    "\n",
    "    return np.max(IoU)\n",
    "\n",
    "real_max_img_iou_list = np.empty([0], dtype=np.float32)\n",
    "for boxes in real_labels_list:\n",
    "    if boxes.shape[0] > 1:\n",
    "        real_max_img_iou_list = np.hstack([real_max_img_iou_list, IoU(boxes[:,1:])])\n",
    "real_df = pd.DataFrame(real_max_img_iou_list)\n",
    "real_df.columns= [\"Real max IoU in each img\"]\n",
    "real_df_styler = real_df.describe(percentiles=[0.02,0.1,0.25,0.5,0.75,0.9,0.98]).style.set_table_attributes(\"style='display:inline'\").set_caption('Real')\n",
    "\n",
    "generated_max_img_iou_list = np.empty([0], dtype=np.float32)\n",
    "for boxes in generated_labels_list:\n",
    "    if boxes.shape[0] > 1:\n",
    "        generated_max_img_iou_list = np.hstack([generated_max_img_iou_list, IoU(boxes[:,1:])])\n",
    "generated_df = pd.DataFrame(generated_max_img_iou_list)\n",
    "generated_df.columns= [\"Generated max IoU each img\"]\n",
    "generated_df_styler = generated_df.describe(percentiles=[0.02,0.1,0.25,0.5,0.75,0.9,0.98]).style.set_table_attributes(\"style='display:inline'\").set_caption('Generated')\n",
    "\n",
    "display_html(real_df_styler._repr_html_()+generated_df_styler._repr_html_(), raw=True)"
   ]
  },
  {
   "attachments": {},
   "cell_type": "markdown",
   "metadata": {},
   "source": [
    "#### Plot all bounding boxes sizes ####"
   ]
  },
  {
   "cell_type": "code",
   "execution_count": null,
   "metadata": {
    "metadata": {}
   },
   "outputs": [],
   "source": [
    "plt.rcParams['figure.figsize'] = [20, 10]\n",
    "plt.scatter(generated_sizes[:,0], generated_sizes[:,1], s=40, marker='+', c='tab:red', label='generated')\n",
    "plt.scatter(real_sizes[:,0], real_sizes[:,1], s=10, marker='*', c='tab:blue', label='real')\n",
    "plt.xlim([0,max(real_sizes[:,0].max(), generated_sizes[:,0].max())+5])\n",
    "plt.ylim([0,max(real_sizes[:,1].max(), generated_sizes[:,0].max())+5])\n",
    "plt.grid(which='major', linestyle='-', linewidth='0.5', color='black')\n",
    "plt.grid(which='minor', linestyle=':', linewidth='0.5', color='black')\n",
    "plt.minorticks_on()\n",
    "plt.title('Bounding boxes sizes', fontsize=16)\n",
    "plt.legend(fontsize=13)\n",
    "plt.show()"
   ]
  },
  {
   "cell_type": "markdown",
   "metadata": {},
   "source": [
    "Get histogram on areas to estimate size"
   ]
  },
  {
   "cell_type": "code",
   "execution_count": null,
   "metadata": {
    "metadata": {}
   },
   "outputs": [],
   "source": [
    "plt.rcParams['figure.figsize'] = [20, 5]\n",
    "plt.subplot(1,2,1)\n",
    "plt.title('Generated bounding boxes Areas', fontsize=16)\n",
    "plt.hist(np.sqrt(generated_areas), bins=250, color='tab:red', label='generated')\n",
    "plt.grid(which='major', linestyle='-', linewidth='0.5', color='black')\n",
    "plt.grid(which='minor', linestyle=':', linewidth='0.5', color='black')\n",
    "plt.subplot(1,2,2)\n",
    "plt.title('Real bounding boxes Areas', fontsize=16)\n",
    "plt.hist(np.sqrt(real_areas), bins=250, color='tab:blue', label='real')\n",
    "plt.grid(which='major', linestyle='-', linewidth='0.5', color='black')\n",
    "plt.grid(which='minor', linestyle=':', linewidth='0.5', color='black')\n",
    "plt.show()"
   ]
  },
  {
   "attachments": {},
   "cell_type": "markdown",
   "metadata": {},
   "source": [
    "## KMeans Clustering ##\n",
    "Now we run some clustering to identify patterns in the data. This will useful when generating the neural network model and detecting the tanks and flags.\n",
    "In particular this results will be useful when chosing the anchor boxes size and ratios"
   ]
  },
  {
   "attachments": {},
   "cell_type": "markdown",
   "metadata": {},
   "source": [
    "#### Clustering plot function ####"
   ]
  },
  {
   "cell_type": "code",
   "execution_count": null,
   "metadata": {
    "metadata": {}
   },
   "outputs": [],
   "source": [
    "def plot_clusters(points:np.ndarray, labels:np.ndarray, k:int, centers, plot_centers:bool=False):\n",
    "    sorted_centers = np.argsort(centers)\n",
    "\n",
    "    # plot the 3 clusters\n",
    "    colors = [\"green\", \"darkorange\", \"purple\", \"blue\", \"lightblue\", \"lightgreen\"]\n",
    "    for i in range(k):\n",
    "        plt.scatter(points[labels == sorted_centers[i], 0], points[labels == sorted_centers[i], 1], s=10, c=colors[i], marker='.', label=\"center at \" + str(centers[sorted_centers[i]]))\n",
    "\n",
    "    # plot the centroids\n",
    "    if plot_centers:\n",
    "        plt.scatter(centers[:, 0], centers[:, 1], s=20, marker='o', c='red', edgecolor='black', label='centroids')\n",
    "\n",
    "    plt.legend(scatterpoints=1)\n",
    "    plt.minorticks_on()\n",
    "    plt.xlim([0,points[:,0].max()+20])\n",
    "    plt.ylim([0,points[:,1].max()+20])\n",
    "    plt.grid(which='major', linestyle='-', linewidth='0.5', color='gray')\n",
    "    plt.grid(which='minor', linestyle=':', linewidth='0.5', color='gray')"
   ]
  },
  {
   "attachments": {},
   "cell_type": "markdown",
   "metadata": {},
   "source": [
    "#### Clustering on Size ####"
   ]
  },
  {
   "cell_type": "code",
   "execution_count": null,
   "metadata": {
    "metadata": {}
   },
   "outputs": [],
   "source": [
    "k_sizes = 3\n",
    "real_km_size = KMeans(n_clusters=k_sizes, n_init='auto')\n",
    "real_km_sizes_output = real_km_size.fit_predict(np.expand_dims(real_areas, 1))\n",
    "print('Real dataset kmeans centers: ' + str(np.sort(real_km_size.cluster_centers_.squeeze(), 0)))\n",
    "\n",
    "k_sizes = 3\n",
    "generated_km_size = KMeans(n_clusters=k_sizes, n_init='auto')\n",
    "generated_km_sizes_output = generated_km_size.fit_predict(np.expand_dims(generated_areas, 1))\n",
    "print('Generated dataset kmeans centers: ' + str(np.sort(generated_km_size.cluster_centers_.squeeze(), 0)))\n",
    "\n",
    "plt.rcParams['figure.figsize'] = [20, 7]\n",
    "plt.subplot(1,2,1)\n",
    "plt.title('Area Clustering on Real dataset', fontsize=16)\n",
    "plot_clusters(real_sizes, real_km_sizes_output, k_sizes, real_km_size.cluster_centers_.squeeze())\n",
    "plt.subplot(1,2,2)\n",
    "plt.title('Area Clustering on Generated dataset', fontsize=16)\n",
    "plot_clusters(generated_sizes, generated_km_sizes_output, k_sizes, generated_km_size.cluster_centers_.squeeze())\n",
    "plt.show()"
   ]
  },
  {
   "attachments": {},
   "cell_type": "markdown",
   "metadata": {},
   "source": [
    "#### Clustering on Ratios"
   ]
  },
  {
   "cell_type": "code",
   "execution_count": null,
   "metadata": {
    "metadata": {}
   },
   "outputs": [],
   "source": [
    "k_ratios = 3\n",
    "\n",
    "real_km_ratios = KMeans(n_clusters=k_ratios, n_init='auto')\n",
    "real_km_ratios_output = real_km_ratios.fit_predict(np.expand_dims(real_ratios, 1))\n",
    "print('Real dataset kmeans centers: ' + str(np.sort(real_km_ratios.cluster_centers_.squeeze())))\n",
    "\n",
    "generated_km_ratios = KMeans(n_clusters=k_ratios, n_init='auto')\n",
    "generated_km_ratios_output = generated_km_ratios.fit_predict(np.expand_dims(generated_ratios, 1))\n",
    "print('Generated dataset kmeans centers: ' + str(np.sort(generated_km_ratios.cluster_centers_.squeeze())))\n",
    "\n",
    "plt.rcParams['figure.figsize'] = [20, 7]\n",
    "plt.subplot(1,2,1)\n",
    "plt.title('Ratio Clustering on Generated dataset', fontsize=16)\n",
    "plot_clusters(real_sizes, real_km_ratios_output, k_ratios, real_km_ratios.cluster_centers_.squeeze())\n",
    "plt.subplot(1,2,2)\n",
    "plt.title('Ratio Clustering on Generated dataset', fontsize=16)\n",
    "plot_clusters(generated_sizes, generated_km_ratios_output, k_ratios, generated_km_ratios.cluster_centers_.squeeze())\n",
    "plt.show()"
   ]
  }
 ],
 "metadata": {
  "kernelspec": {
   "display_name": "deepl_env",
   "language": "python",
   "name": "python3"
  },
  "language_info": {
   "codemirror_mode": {
    "name": "ipython",
    "version": 3
   },
   "file_extension": ".py",
   "mimetype": "text/x-python",
   "name": "python",
   "nbconvert_exporter": "python",
   "pygments_lexer": "ipython3",
   "version": "3.11.9"
  },
  "orig_nbformat": 4
 },
 "nbformat": 4,
 "nbformat_minor": 2
}
